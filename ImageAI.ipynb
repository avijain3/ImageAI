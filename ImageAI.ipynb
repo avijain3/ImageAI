{
 "cells": [
  {
   "cell_type": "code",
   "execution_count": null,
   "metadata": {},
   "outputs": [],
   "source": [
    "#Importing and downloading important Librarires\n",
    "#Note: Use the mentioned Tensorflow and Keras Versions for the notebook to work properly\n",
    "#Note 2: In Tensorflow 1.X, there is no Keras in-built, we'll have to manually install libraries\n",
    "\n",
    "import numpy as np \n",
    "!pip install tensorflow==1.14.0\n",
    "!pip install keras==2.3.1\n",
    "import imageai\n",
    "from imageai.Detection.Custom import DetectionModelTrainer\n",
    "from imageai.Detection.Custom import CustomObjectDetection\n",
    "!pip install opencv-python==4.1.2.30"
   ]
  },
  {
   "cell_type": "code",
   "execution_count": null,
   "metadata": {},
   "outputs": [],
   "source": [
    "#Here you'll have to download pre-trained weights from the model that ypu wish to use. I am using YOLOV3 for training.\n",
    "\n",
    "trainer = DetectionModelTrainer()\n",
    "trainer.setModelTypeAsYOLOv3()\n",
    "trainer.setDataDirectory(data_directory=\"E:\\hololens\")\n",
    "trainer.setTrainConfig(object_names_array=[\"hololens\"], batch_size=4, num_experiments=3, train_from_pretrained_model=\"E:\\hololens\\pretrained-yolov3.h5\")\n"
   ]
  },
  {
   "cell_type": "code",
   "execution_count": null,
   "metadata": {},
   "outputs": [],
   "source": [
    "# To start the training\n",
    "# This will create a ImageAI will generate detection_config.json file in the hololens/json folder. \n",
    "# This JSON file will be used during detection of objects in images and videos\n",
    "# ImageAI will create hololens/models folder which is where all generated models will be saved\n",
    "# This code will create a log stating the loses of each layer of YOLO layer(layer loss plus val loss of each layer) \n",
    "# in correspondence with the each epoch trained. \n",
    "\n",
    "trainer.trainModel()"
   ]
  },
  {
   "cell_type": "code",
   "execution_count": null,
   "metadata": {},
   "outputs": [],
   "source": [
    "# The evaluation starts\n",
    "# Here we use mAP metric to see how good our model performs and whether it overfits or not. Higher the mAP, better the model\n",
    "# Here we can individually see the loss and mAP of each epoch trained \n",
    "\n",
    "trainer = DetectionModelTrainer()\n",
    "trainer.setModelTypeAsYOLOv3()\n",
    "trainer.setDataDirectory(data_directory=\"E:\\hololens\") #The folder where your labelled dataset is stored\n",
    "trainer.evaluateModel(model_path=\"E:\\hololens\\models\", json_path=\"E:\\hololens\\json\\detection_config.json\", iou_threshold=0.5, object_threshold=0.3, nms_threshold=0.5)\n",
    "\n",
    "# The hololens/models is the path for the model saved after training\n",
    "# The json path is the path to the detection_config.json file saved during the training."
   ]
  },
  {
   "cell_type": "code",
   "execution_count": null,
   "metadata": {},
   "outputs": [],
   "source": [
    "# The Testing Part\n",
    "# we will use the best model saved as well as the detection_config.json file generated to detect the object in an image.\n",
    "\n",
    "detector = CustomObjectDetection()\n",
    "detector.setModelTypeAsYOLOv3()\n",
    "detector.setModelPath(\"E:\\\\hololens\\\\models\\\\detection_model-ex-001--loss-0036.211.h5\") # This is the best model saved\n",
    "detector.setJsonPath(\"E:\\hololens\\json\\detection_config.json\")\n",
    "detector.loadModel()\n"
   ]
  },
  {
   "cell_type": "code",
   "execution_count": null,
   "metadata": {},
   "outputs": [],
   "source": [
    "# input_image is the path to the image that you want to test\n",
    "# Output image is the path that you need to create for the result image that will be generated \n",
    "\n",
    "detections = detector.detectObjectsFromImage(input_image=\"E:\\\\hololens\\\\validation\\\\images\\\\image (244).jpg\",  output_image_path=\"E:\\\\hololens\\\\holo4-detected.jpg\", minimum_percentage_probability=20)\n",
    "for detection in detections:\n",
    "    print(detection[\"name\"], \" : \", detection[\"percentage_probability\"], \" : \", detection[\"box_points\"])"
   ]
  },
  {
   "cell_type": "code",
   "execution_count": null,
   "metadata": {},
   "outputs": [],
   "source": [
    "import matplotlib.pyplot as plt\n",
    "import matplotlib.image as mpimg\n",
    "%matplotlib inline\n",
    "\n",
    "\n",
    "img = mpimg.imread(\"E:\\\\hololens\\\\holo4-detected.jpg\")\n",
    "imgplot = plt.imshow(img)\n",
    "\n",
    "# This will output an image after creating a detection box surrounding the input image"
   ]
  }
 ],
 "metadata": {
  "kernelspec": {
   "display_name": "Python 3.7 (tensorflow)",
   "language": "python",
   "name": "tensorflow"
  },
  "language_info": {
   "codemirror_mode": {
    "name": "ipython",
    "version": 3
   },
   "file_extension": ".py",
   "mimetype": "text/x-python",
   "name": "python",
   "nbconvert_exporter": "python",
   "pygments_lexer": "ipython3",
   "version": "3.7.6"
  }
 },
 "nbformat": 4,
 "nbformat_minor": 4
}
